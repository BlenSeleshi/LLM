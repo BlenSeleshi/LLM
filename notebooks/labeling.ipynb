{
 "cells": [
  {
   "cell_type": "markdown",
   "metadata": {},
   "source": [
    "### Importing the Necessary Packages"
   ]
  },
  {
   "cell_type": "code",
   "execution_count": 4,
   "metadata": {},
   "outputs": [],
   "source": [
    "import pandas as pd\n",
    "import re"
   ]
  },
  {
   "cell_type": "markdown",
   "metadata": {},
   "source": [
    "### Loading the Dataset"
   ]
  },
  {
   "cell_type": "code",
   "execution_count": 5,
   "metadata": {},
   "outputs": [],
   "source": [
    "df = pd.read_csv(r'C:\\Users\\Blen\\OneDrive\\Desktop\\10Academy\\LLM\\data\\cleaned_V6.csv')"
   ]
  },
  {
   "cell_type": "code",
   "execution_count": 6,
   "metadata": {},
   "outputs": [
    {
     "data": {
      "text/html": [
       "<div>\n",
       "<style scoped>\n",
       "    .dataframe tbody tr th:only-of-type {\n",
       "        vertical-align: middle;\n",
       "    }\n",
       "\n",
       "    .dataframe tbody tr th {\n",
       "        vertical-align: top;\n",
       "    }\n",
       "\n",
       "    .dataframe thead th {\n",
       "        text-align: right;\n",
       "    }\n",
       "</style>\n",
       "<table border=\"1\" class=\"dataframe\">\n",
       "  <thead>\n",
       "    <tr style=\"text-align: right;\">\n",
       "      <th></th>\n",
       "      <th>Channel Title</th>\n",
       "      <th>Channel Username</th>\n",
       "      <th>ID</th>\n",
       "      <th>Date</th>\n",
       "      <th>Media Path</th>\n",
       "      <th>Messages_cleaned</th>\n",
       "    </tr>\n",
       "  </thead>\n",
       "  <tbody>\n",
       "    <tr>\n",
       "      <th>0</th>\n",
       "      <td>ምርጥ ዕቃ</td>\n",
       "      <td>@MerttEka</td>\n",
       "      <td>6811</td>\n",
       "      <td>2024-09-27 18:14:53+00:00</td>\n",
       "      <td>photos\\@MerttEka_6811.jpg</td>\n",
       "      <td>የእናት ጡት ወተት ማጠራቀሚያ\\n ከውስጥ ልብስዎ ጋር አብረው የሚለብሱትና...</td>\n",
       "    </tr>\n",
       "    <tr>\n",
       "      <th>1</th>\n",
       "      <td>ምርጥ ዕቃ</td>\n",
       "      <td>@MerttEka</td>\n",
       "      <td>6810</td>\n",
       "      <td>2024-09-27 14:19:03+00:00</td>\n",
       "      <td>NaN</td>\n",
       "      <td>በቻርጅ የሚሰራ የጃር ውሃ ፓምፕ\\n    ለሁሉም ዓይነት የውሃ ጃሮች ይሆ...</td>\n",
       "    </tr>\n",
       "    <tr>\n",
       "      <th>2</th>\n",
       "      <td>ምርጥ ዕቃ</td>\n",
       "      <td>@MerttEka</td>\n",
       "      <td>6806</td>\n",
       "      <td>2024-09-27 11:42:32+00:00</td>\n",
       "      <td>photos\\@MerttEka_6806.jpg</td>\n",
       "      <td>የልብስ መተኮሻ\\n በእንፏሎት የሚሰራ ባለ 3 ወፍራም ምሶሶ መቆሚያ ያለ...</td>\n",
       "    </tr>\n",
       "    <tr>\n",
       "      <th>3</th>\n",
       "      <td>ምርጥ ዕቃ</td>\n",
       "      <td>@MerttEka</td>\n",
       "      <td>6802</td>\n",
       "      <td>2024-09-26 16:16:51+00:00</td>\n",
       "      <td>photos\\@MerttEka_6802.jpg</td>\n",
       "      <td>የመኪና መዓዛ\\n በፀሃይ ብርሃን ስለሚሰራ ቻርጅ ማድረግ አይፈልግም\\n ሁ...</td>\n",
       "    </tr>\n",
       "    <tr>\n",
       "      <th>4</th>\n",
       "      <td>ምርጥ ዕቃ</td>\n",
       "      <td>@MerttEka</td>\n",
       "      <td>6801</td>\n",
       "      <td>2024-09-26 12:31:45+00:00</td>\n",
       "      <td>photos\\@MerttEka_6801.jpg</td>\n",
       "      <td>የፀጉር ማድረቂያ ፎን\\n6000 በጣም ፈጣን\\nማበጠሪያ ያለው\\n ሶኬቱ ...</td>\n",
       "    </tr>\n",
       "  </tbody>\n",
       "</table>\n",
       "</div>"
      ],
      "text/plain": [
       "  Channel Title Channel Username    ID                       Date  \\\n",
       "0        ምርጥ ዕቃ        @MerttEka  6811  2024-09-27 18:14:53+00:00   \n",
       "1        ምርጥ ዕቃ        @MerttEka  6810  2024-09-27 14:19:03+00:00   \n",
       "2        ምርጥ ዕቃ        @MerttEka  6806  2024-09-27 11:42:32+00:00   \n",
       "3        ምርጥ ዕቃ        @MerttEka  6802  2024-09-26 16:16:51+00:00   \n",
       "4        ምርጥ ዕቃ        @MerttEka  6801  2024-09-26 12:31:45+00:00   \n",
       "\n",
       "                  Media Path  \\\n",
       "0  photos\\@MerttEka_6811.jpg   \n",
       "1                        NaN   \n",
       "2  photos\\@MerttEka_6806.jpg   \n",
       "3  photos\\@MerttEka_6802.jpg   \n",
       "4  photos\\@MerttEka_6801.jpg   \n",
       "\n",
       "                                    Messages_cleaned  \n",
       "0  የእናት ጡት ወተት ማጠራቀሚያ\\n ከውስጥ ልብስዎ ጋር አብረው የሚለብሱትና...  \n",
       "1  በቻርጅ የሚሰራ የጃር ውሃ ፓምፕ\\n    ለሁሉም ዓይነት የውሃ ጃሮች ይሆ...  \n",
       "2   የልብስ መተኮሻ\\n በእንፏሎት የሚሰራ ባለ 3 ወፍራም ምሶሶ መቆሚያ ያለ...  \n",
       "3  የመኪና መዓዛ\\n በፀሃይ ብርሃን ስለሚሰራ ቻርጅ ማድረግ አይፈልግም\\n ሁ...  \n",
       "4   የፀጉር ማድረቂያ ፎን\\n6000 በጣም ፈጣን\\nማበጠሪያ ያለው\\n ሶኬቱ ...  "
      ]
     },
     "execution_count": 6,
     "metadata": {},
     "output_type": "execute_result"
    }
   ],
   "source": [
    "df.head()"
   ]
  },
  {
   "cell_type": "markdown",
   "metadata": {},
   "source": [
    "### A function to label the messages with CoNLL format"
   ]
  },
  {
   "cell_type": "code",
   "execution_count": 7,
   "metadata": {},
   "outputs": [],
   "source": [
    "def label_message_utf8_with_birr(message):\n",
    "    # Split the message at the first occurrence of '\\n'\n",
    "    if '\\n' in message:\n",
    "        first_line, remaining_message = message.split('\\n', 1)\n",
    "    else:\n",
    "        first_line, remaining_message = message, \"\"\n",
    "    \n",
    "    labeled_tokens = []\n",
    "    \n",
    "    # Tokenize the first line\n",
    "    first_line_tokens = re.findall(r'\\S+', first_line)\n",
    "    \n",
    "    # Label the first token as B-PRODUCT and the rest as I-PRODUCT\n",
    "    if first_line_tokens:\n",
    "        labeled_tokens.append(f\"{first_line_tokens[0]} B-PRODUCT\")  # First token as B-PRODUCT\n",
    "        for token in first_line_tokens[1:]:\n",
    "            labeled_tokens.append(f\"{token} I-PRODUCT\")  # Remaining tokens as I-PRODUCT\n",
    "    \n",
    "    # Process the remaining message normally\n",
    "    if remaining_message:\n",
    "        lines = remaining_message.split('\\n')\n",
    "        for line in lines:\n",
    "            tokens = re.findall(r'\\S+', line)  # Tokenize each line while considering non-ASCII characters\n",
    "            \n",
    "            for token in tokens:\n",
    "                # Check if token is a price (e.g., 500 ETB, $100, or ብር)\n",
    "                if re.match(r'^\\d{10,}$', token):\n",
    "                    labeled_tokens.append(f\"{token} O\")  # Label as O for \"other\" or outside of any entity\n",
    "                elif re.match(r'^\\d+(\\.\\d{1,2})?$', token) or 'ETB' in token or 'ዋጋ' in token or '$' in token or 'ብር' in token:\n",
    "                    labeled_tokens.append(f\"{token} I-PRICE\")\n",
    "                # Check if token could be a location (e.g., cities or general location names)\n",
    "                elif any(loc in token for loc in ['Addis Ababa', 'ለቡ', 'ለቡ መዳህኒዓለም', 'መገናኛ', 'ቦሌ', 'ሜክሲኮ']):\n",
    "                    labeled_tokens.append(f\"{token} B-LOC\")\n",
    "                elif any(loc in token for loc in ['ዘፍመሽ', 'ግራንድ','ሞል','3ኛ','ፎቅ']):\n",
    "                    labeled_tokens.append(f\"{token} I-LOC\")\n",
    "                # Assume other tokens are part of a product name or general text\n",
    "                else:\n",
    "                    labeled_tokens.append(f\"{token} O\")\n",
    "    \n",
    "    return \"\\n\".join(labeled_tokens)"
   ]
  },
  {
   "cell_type": "code",
   "execution_count": 8,
   "metadata": {},
   "outputs": [],
   "source": [
    "# Apply the updated function to the non-null messages\n",
    "df['Labeled_Message'] = df['Messages_cleaned'].apply(label_message_utf8_with_birr)"
   ]
  },
  {
   "cell_type": "code",
   "execution_count": 9,
   "metadata": {},
   "outputs": [
    {
     "data": {
      "text/html": [
       "<div>\n",
       "<style scoped>\n",
       "    .dataframe tbody tr th:only-of-type {\n",
       "        vertical-align: middle;\n",
       "    }\n",
       "\n",
       "    .dataframe tbody tr th {\n",
       "        vertical-align: top;\n",
       "    }\n",
       "\n",
       "    .dataframe thead th {\n",
       "        text-align: right;\n",
       "    }\n",
       "</style>\n",
       "<table border=\"1\" class=\"dataframe\">\n",
       "  <thead>\n",
       "    <tr style=\"text-align: right;\">\n",
       "      <th></th>\n",
       "      <th>Channel Title</th>\n",
       "      <th>Channel Username</th>\n",
       "      <th>ID</th>\n",
       "      <th>Date</th>\n",
       "      <th>Media Path</th>\n",
       "      <th>Messages_cleaned</th>\n",
       "      <th>Labeled_Message</th>\n",
       "    </tr>\n",
       "  </thead>\n",
       "  <tbody>\n",
       "    <tr>\n",
       "      <th>0</th>\n",
       "      <td>ምርጥ ዕቃ</td>\n",
       "      <td>@MerttEka</td>\n",
       "      <td>6811</td>\n",
       "      <td>2024-09-27 18:14:53+00:00</td>\n",
       "      <td>photos\\@MerttEka_6811.jpg</td>\n",
       "      <td>የእናት ጡት ወተት ማጠራቀሚያ\\n ከውስጥ ልብስዎ ጋር አብረው የሚለብሱትና...</td>\n",
       "      <td>የእናት B-PRODUCT\\nጡት I-PRODUCT\\nወተት I-PRODUCT\\nማ...</td>\n",
       "    </tr>\n",
       "    <tr>\n",
       "      <th>1</th>\n",
       "      <td>ምርጥ ዕቃ</td>\n",
       "      <td>@MerttEka</td>\n",
       "      <td>6810</td>\n",
       "      <td>2024-09-27 14:19:03+00:00</td>\n",
       "      <td>NaN</td>\n",
       "      <td>በቻርጅ የሚሰራ የጃር ውሃ ፓምፕ\\n    ለሁሉም ዓይነት የውሃ ጃሮች ይሆ...</td>\n",
       "      <td>በቻርጅ B-PRODUCT\\nየሚሰራ I-PRODUCT\\nየጃር I-PRODUCT\\...</td>\n",
       "    </tr>\n",
       "    <tr>\n",
       "      <th>2</th>\n",
       "      <td>ምርጥ ዕቃ</td>\n",
       "      <td>@MerttEka</td>\n",
       "      <td>6806</td>\n",
       "      <td>2024-09-27 11:42:32+00:00</td>\n",
       "      <td>photos\\@MerttEka_6806.jpg</td>\n",
       "      <td>የልብስ መተኮሻ\\n በእንፏሎት የሚሰራ ባለ 3 ወፍራም ምሶሶ መቆሚያ ያለ...</td>\n",
       "      <td>የልብስ B-PRODUCT\\nመተኮሻ I-PRODUCT\\nበእንፏሎት O\\nየሚሰራ...</td>\n",
       "    </tr>\n",
       "    <tr>\n",
       "      <th>3</th>\n",
       "      <td>ምርጥ ዕቃ</td>\n",
       "      <td>@MerttEka</td>\n",
       "      <td>6802</td>\n",
       "      <td>2024-09-26 16:16:51+00:00</td>\n",
       "      <td>photos\\@MerttEka_6802.jpg</td>\n",
       "      <td>የመኪና መዓዛ\\n በፀሃይ ብርሃን ስለሚሰራ ቻርጅ ማድረግ አይፈልግም\\n ሁ...</td>\n",
       "      <td>የመኪና B-PRODUCT\\nመዓዛ I-PRODUCT\\nበፀሃይ O\\nብርሃን I-...</td>\n",
       "    </tr>\n",
       "    <tr>\n",
       "      <th>4</th>\n",
       "      <td>ምርጥ ዕቃ</td>\n",
       "      <td>@MerttEka</td>\n",
       "      <td>6801</td>\n",
       "      <td>2024-09-26 12:31:45+00:00</td>\n",
       "      <td>photos\\@MerttEka_6801.jpg</td>\n",
       "      <td>የፀጉር ማድረቂያ ፎን\\n6000 በጣም ፈጣን\\nማበጠሪያ ያለው\\n ሶኬቱ ...</td>\n",
       "      <td>የፀጉር B-PRODUCT\\nማድረቂያ I-PRODUCT\\nፎን I-PRODUCT\\...</td>\n",
       "    </tr>\n",
       "  </tbody>\n",
       "</table>\n",
       "</div>"
      ],
      "text/plain": [
       "  Channel Title Channel Username    ID                       Date  \\\n",
       "0        ምርጥ ዕቃ        @MerttEka  6811  2024-09-27 18:14:53+00:00   \n",
       "1        ምርጥ ዕቃ        @MerttEka  6810  2024-09-27 14:19:03+00:00   \n",
       "2        ምርጥ ዕቃ        @MerttEka  6806  2024-09-27 11:42:32+00:00   \n",
       "3        ምርጥ ዕቃ        @MerttEka  6802  2024-09-26 16:16:51+00:00   \n",
       "4        ምርጥ ዕቃ        @MerttEka  6801  2024-09-26 12:31:45+00:00   \n",
       "\n",
       "                  Media Path  \\\n",
       "0  photos\\@MerttEka_6811.jpg   \n",
       "1                        NaN   \n",
       "2  photos\\@MerttEka_6806.jpg   \n",
       "3  photos\\@MerttEka_6802.jpg   \n",
       "4  photos\\@MerttEka_6801.jpg   \n",
       "\n",
       "                                    Messages_cleaned  \\\n",
       "0  የእናት ጡት ወተት ማጠራቀሚያ\\n ከውስጥ ልብስዎ ጋር አብረው የሚለብሱትና...   \n",
       "1  በቻርጅ የሚሰራ የጃር ውሃ ፓምፕ\\n    ለሁሉም ዓይነት የውሃ ጃሮች ይሆ...   \n",
       "2   የልብስ መተኮሻ\\n በእንፏሎት የሚሰራ ባለ 3 ወፍራም ምሶሶ መቆሚያ ያለ...   \n",
       "3  የመኪና መዓዛ\\n በፀሃይ ብርሃን ስለሚሰራ ቻርጅ ማድረግ አይፈልግም\\n ሁ...   \n",
       "4   የፀጉር ማድረቂያ ፎን\\n6000 በጣም ፈጣን\\nማበጠሪያ ያለው\\n ሶኬቱ ...   \n",
       "\n",
       "                                     Labeled_Message  \n",
       "0  የእናት B-PRODUCT\\nጡት I-PRODUCT\\nወተት I-PRODUCT\\nማ...  \n",
       "1  በቻርጅ B-PRODUCT\\nየሚሰራ I-PRODUCT\\nየጃር I-PRODUCT\\...  \n",
       "2  የልብስ B-PRODUCT\\nመተኮሻ I-PRODUCT\\nበእንፏሎት O\\nየሚሰራ...  \n",
       "3  የመኪና B-PRODUCT\\nመዓዛ I-PRODUCT\\nበፀሃይ O\\nብርሃን I-...  \n",
       "4  የፀጉር B-PRODUCT\\nማድረቂያ I-PRODUCT\\nፎን I-PRODUCT\\...  "
      ]
     },
     "execution_count": 9,
     "metadata": {},
     "output_type": "execute_result"
    }
   ],
   "source": [
    "\n",
    "# Display the updated DataFrame\n",
    "df.head()"
   ]
  },
  {
   "cell_type": "markdown",
   "metadata": {},
   "source": [
    "### Saving the labeled data"
   ]
  },
  {
   "cell_type": "code",
   "execution_count": 10,
   "metadata": {},
   "outputs": [],
   "source": [
    "labeled_data_birr_path = 'labeled_telegram_data.txt'\n",
    "with open(labeled_data_birr_path, 'w', encoding='utf-8') as f:\n",
    "    for index, row in df.iterrows():\n",
    "        f.write(f\"{row['Labeled_Message']}\\n\\n\")"
   ]
  },
  {
   "cell_type": "code",
   "execution_count": null,
   "metadata": {},
   "outputs": [],
   "source": []
  }
 ],
 "metadata": {
  "kernelspec": {
   "display_name": ".venv",
   "language": "python",
   "name": "python3"
  },
  "language_info": {
   "codemirror_mode": {
    "name": "ipython",
    "version": 3
   },
   "file_extension": ".py",
   "mimetype": "text/x-python",
   "name": "python",
   "nbconvert_exporter": "python",
   "pygments_lexer": "ipython3",
   "version": "3.11.5"
  }
 },
 "nbformat": 4,
 "nbformat_minor": 2
}
