{
 "cells": [
  {
   "cell_type": "markdown",
   "metadata": {},
   "source": [
    "### Installing the necessary packages"
   ]
  },
  {
   "cell_type": "code",
   "execution_count": 1,
   "metadata": {},
   "outputs": [
    {
     "name": "stderr",
     "output_type": "stream",
     "text": [
      "c:\\Users\\Blen\\OneDrive\\Desktop\\10Academy\\LLM\\.venv\\Lib\\site-packages\\tqdm\\auto.py:21: TqdmWarning: IProgress not found. Please update jupyter and ipywidgets. See https://ipywidgets.readthedocs.io/en/stable/user_install.html\n",
      "  from .autonotebook import tqdm as notebook_tqdm\n",
      "None of PyTorch, TensorFlow >= 2.0, or Flax have been found. Models won't be available and only tokenizers, configuration and file/data utilities can be used.\n"
     ]
    }
   ],
   "source": [
    "import pandas as pd\n",
    "from transformers import AutoTokenize"
   ]
  },
  {
   "cell_type": "code",
   "execution_count": 3,
   "metadata": {},
   "outputs": [],
   "source": [
    "with open(r'C:\\Users\\Blen\\OneDrive\\Desktop\\10Academy\\LLM\\data\\labeled_telegram_data.txt', 'r', encoding='utf-8') as file:\n",
    "    lines = file.readlines()\n",
    "\n",
    "# Process lines as needed\n",
    "data = [line.strip().split('\\t') for line in lines]  # Adjust the split based on your delimiter\n",
    "df = pd.DataFrame(data)"
   ]
  },
  {
   "cell_type": "code",
   "execution_count": 4,
   "metadata": {},
   "outputs": [
    {
     "data": {
      "text/html": [
       "<div>\n",
       "<style scoped>\n",
       "    .dataframe tbody tr th:only-of-type {\n",
       "        vertical-align: middle;\n",
       "    }\n",
       "\n",
       "    .dataframe tbody tr th {\n",
       "        vertical-align: top;\n",
       "    }\n",
       "\n",
       "    .dataframe thead th {\n",
       "        text-align: right;\n",
       "    }\n",
       "</style>\n",
       "<table border=\"1\" class=\"dataframe\">\n",
       "  <thead>\n",
       "    <tr style=\"text-align: right;\">\n",
       "      <th></th>\n",
       "      <th>0</th>\n",
       "    </tr>\n",
       "  </thead>\n",
       "  <tbody>\n",
       "    <tr>\n",
       "      <th>0</th>\n",
       "      <td>የእናት B-PRODUCT</td>\n",
       "    </tr>\n",
       "    <tr>\n",
       "      <th>1</th>\n",
       "      <td>ጡት I-PRODUCT</td>\n",
       "    </tr>\n",
       "    <tr>\n",
       "      <th>2</th>\n",
       "      <td>ወተት I-PRODUCT</td>\n",
       "    </tr>\n",
       "    <tr>\n",
       "      <th>3</th>\n",
       "      <td>ማጠራቀሚያ I-PRODUCT</td>\n",
       "    </tr>\n",
       "    <tr>\n",
       "      <th>4</th>\n",
       "      <td>ከውስጥ O</td>\n",
       "    </tr>\n",
       "    <tr>\n",
       "      <th>...</th>\n",
       "      <td>...</td>\n",
       "    </tr>\n",
       "    <tr>\n",
       "      <th>168268</th>\n",
       "      <td>0983063957 O</td>\n",
       "    </tr>\n",
       "    <tr>\n",
       "      <th>168269</th>\n",
       "      <td></td>\n",
       "    </tr>\n",
       "    <tr>\n",
       "      <th>168270</th>\n",
       "      <td>ለማዘዝ B-PRODUCT</td>\n",
       "    </tr>\n",
       "    <tr>\n",
       "      <th>168271</th>\n",
       "      <td>://. O</td>\n",
       "    </tr>\n",
       "    <tr>\n",
       "      <th>168272</th>\n",
       "      <td></td>\n",
       "    </tr>\n",
       "  </tbody>\n",
       "</table>\n",
       "<p>168273 rows × 1 columns</p>\n",
       "</div>"
      ],
      "text/plain": [
       "                       0\n",
       "0         የእናት B-PRODUCT\n",
       "1           ጡት I-PRODUCT\n",
       "2          ወተት I-PRODUCT\n",
       "3       ማጠራቀሚያ I-PRODUCT\n",
       "4                 ከውስጥ O\n",
       "...                  ...\n",
       "168268      0983063957 O\n",
       "168269                  \n",
       "168270    ለማዘዝ B-PRODUCT\n",
       "168271            ://. O\n",
       "168272                  \n",
       "\n",
       "[168273 rows x 1 columns]"
      ]
     },
     "execution_count": 4,
     "metadata": {},
     "output_type": "execute_result"
    }
   ],
   "source": [
    "df"
   ]
  },
  {
   "cell_type": "markdown",
   "metadata": {},
   "source": [
    "### Using amseg tokenizer"
   ]
  },
  {
   "cell_type": "code",
   "execution_count": 5,
   "metadata": {},
   "outputs": [],
   "source": [
    "from amseg.amharicSegmenter import AmharicSegmenter"
   ]
  },
  {
   "cell_type": "code",
   "execution_count": 6,
   "metadata": {},
   "outputs": [],
   "source": [
    "# Initialize the Amharic segmenter\n",
    "sent_punct = []\n",
    "word_punct = []\n",
    "segmenter = AmharicSegmenter(sent_punct, word_punct)"
   ]
  },
  {
   "cell_type": "code",
   "execution_count": 7,
   "metadata": {},
   "outputs": [],
   "source": [
    "# Process lines: separate tokens and labels\n",
    "data = [line.strip().split() for line in lines if line.strip()]  # Split based on spaces\n",
    "tokens = [item[0] for item in data]  # Extract tokens\n",
    "labels = [item[1] for item in data]  # Extract labels"
   ]
  },
  {
   "cell_type": "code",
   "execution_count": 8,
   "metadata": {},
   "outputs": [],
   "source": [
    "# Function to align tokens with their respective labels\n",
    "def align_tokens_with_labels(tokenizer, tokens, labels):\n",
    "    aligned_tokens = []\n",
    "    aligned_labels = []\n",
    "\n",
    "    # Tokenize each word/token with associated label\n",
    "    for word, label in zip(tokens, labels):\n",
    "        tokenized_word = tokenizer.amharic_tokenizer(word)  # Tokenize the word\n",
    "        aligned_tokens.extend(tokenized_word)  # Add tokens to the list\n",
    "\n",
    "        # Assign the label to the first subtoken and 'O' to subsequent subtokens\n",
    "        aligned_labels.extend([label] + ['O'] * (len(tokenized_word) - 1))\n",
    "\n",
    "    return aligned_tokens, aligned_labels"
   ]
  },
  {
   "cell_type": "code",
   "execution_count": 9,
   "metadata": {},
   "outputs": [],
   "source": [
    "# Example usage with different variable names\n",
    "new_tokens, new_labels = align_tokens_with_labels(segmenter, tokens, labels)"
   ]
  },
  {
   "cell_type": "code",
   "execution_count": 10,
   "metadata": {},
   "outputs": [
    {
     "name": "stdout",
     "output_type": "stream",
     "text": [
      "የእናት: B-PRODUCT\n",
      "ጡት: I-PRODUCT\n",
      "ወተት: I-PRODUCT\n",
      "ማጠራቀሚያ: I-PRODUCT\n",
      "ከውስጥ: O\n",
      "ልብስዎ: O\n",
      "ጋር: O\n",
      "አብረው: O\n",
      "የሚለብሱትና: O\n",
      "ከጡትዎ: O\n",
      "የሚፈስ: O\n",
      "ወተትዎን: O\n",
      "ልብስዎን: O\n",
      "ሳያበላሽ: O\n",
      "በማጠራቀም: O\n",
      "ለልጅዎ: O\n",
      "ያጠቡታል: O\n",
      "ልስልስ: O\n",
      "ካለ: O\n",
      "ሲልከን: O\n"
     ]
    }
   ],
   "source": [
    "# Output the first 20 aligned tokens and labels\n",
    "for token, label in zip(new_tokens[:20], new_labels[:20]):\n",
    "    print(f\"{token}: {label}\")"
   ]
  },
  {
   "cell_type": "code",
   "execution_count": 11,
   "metadata": {},
   "outputs": [],
   "source": [
    "# Saving the final tokens and labels to a CSV file\n",
    "output_df = pd.DataFrame({'Token': new_tokens, 'Label': new_labels})"
   ]
  },
  {
   "cell_type": "code",
   "execution_count": 15,
   "metadata": {},
   "outputs": [
    {
     "data": {
      "text/html": [
       "<div>\n",
       "<style scoped>\n",
       "    .dataframe tbody tr th:only-of-type {\n",
       "        vertical-align: middle;\n",
       "    }\n",
       "\n",
       "    .dataframe tbody tr th {\n",
       "        vertical-align: top;\n",
       "    }\n",
       "\n",
       "    .dataframe thead th {\n",
       "        text-align: right;\n",
       "    }\n",
       "</style>\n",
       "<table border=\"1\" class=\"dataframe\">\n",
       "  <thead>\n",
       "    <tr style=\"text-align: right;\">\n",
       "      <th></th>\n",
       "      <th>Token</th>\n",
       "      <th>Label</th>\n",
       "    </tr>\n",
       "  </thead>\n",
       "  <tbody>\n",
       "    <tr>\n",
       "      <th>0</th>\n",
       "      <td>የእናት</td>\n",
       "      <td>B-PRODUCT</td>\n",
       "    </tr>\n",
       "    <tr>\n",
       "      <th>1</th>\n",
       "      <td>ጡት</td>\n",
       "      <td>I-PRODUCT</td>\n",
       "    </tr>\n",
       "    <tr>\n",
       "      <th>2</th>\n",
       "      <td>ወተት</td>\n",
       "      <td>I-PRODUCT</td>\n",
       "    </tr>\n",
       "    <tr>\n",
       "      <th>3</th>\n",
       "      <td>ማጠራቀሚያ</td>\n",
       "      <td>I-PRODUCT</td>\n",
       "    </tr>\n",
       "    <tr>\n",
       "      <th>4</th>\n",
       "      <td>ከውስጥ</td>\n",
       "      <td>O</td>\n",
       "    </tr>\n",
       "  </tbody>\n",
       "</table>\n",
       "</div>"
      ],
      "text/plain": [
       "    Token      Label\n",
       "0    የእናት  B-PRODUCT\n",
       "1      ጡት  I-PRODUCT\n",
       "2     ወተት  I-PRODUCT\n",
       "3  ማጠራቀሚያ  I-PRODUCT\n",
       "4    ከውስጥ          O"
      ]
     },
     "execution_count": 15,
     "metadata": {},
     "output_type": "execute_result"
    }
   ],
   "source": [
    "output_df.head()"
   ]
  },
  {
   "cell_type": "code",
   "execution_count": 13,
   "metadata": {},
   "outputs": [],
   "source": [
    "output_df.to_csv(r'C:\\Users\\Blen\\OneDrive\\Desktop\\10Academy\\LLM\\data\\final_tokens_labels.csv', index=False)"
   ]
  },
  {
   "cell_type": "code",
   "execution_count": null,
   "metadata": {},
   "outputs": [],
   "source": []
  }
 ],
 "metadata": {
  "kernelspec": {
   "display_name": ".venv",
   "language": "python",
   "name": "python3"
  },
  "language_info": {
   "codemirror_mode": {
    "name": "ipython",
    "version": 3
   },
   "file_extension": ".py",
   "mimetype": "text/x-python",
   "name": "python",
   "nbconvert_exporter": "python",
   "pygments_lexer": "ipython3",
   "version": "3.11.5"
  }
 },
 "nbformat": 4,
 "nbformat_minor": 2
}
